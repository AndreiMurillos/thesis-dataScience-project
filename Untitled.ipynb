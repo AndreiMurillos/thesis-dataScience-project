{
 "cells": [
  {
   "cell_type": "code",
   "execution_count": 1,
   "id": "a2553ee6",
   "metadata": {},
   "outputs": [
    {
     "name": "stderr",
     "output_type": "stream",
     "text": [
      "C:\\Users\\carli\\anaconda3\\lib\\site-packages\\pandas\\core\\computation\\expressions.py:21: UserWarning: Pandas requires version '2.8.0' or newer of 'numexpr' (version '2.7.3' currently installed).\n",
      "  from pandas.core.computation.check import NUMEXPR_INSTALLED\n",
      "C:\\Users\\carli\\anaconda3\\lib\\site-packages\\pandas\\core\\arrays\\masked.py:62: UserWarning: Pandas requires version '1.3.4' or newer of 'bottleneck' (version '1.3.2' currently installed).\n",
      "  from pandas.core import (\n"
     ]
    },
    {
     "data": {
      "text/html": [
       "<div>\n",
       "<style scoped>\n",
       "    .dataframe tbody tr th:only-of-type {\n",
       "        vertical-align: middle;\n",
       "    }\n",
       "\n",
       "    .dataframe tbody tr th {\n",
       "        vertical-align: top;\n",
       "    }\n",
       "\n",
       "    .dataframe thead th {\n",
       "        text-align: right;\n",
       "    }\n",
       "</style>\n",
       "<table border=\"1\" class=\"dataframe\">\n",
       "  <thead>\n",
       "    <tr style=\"text-align: right;\">\n",
       "      <th></th>\n",
       "      <th>Estacion</th>\n",
       "      <th>tmaxF</th>\n",
       "      <th>tminF</th>\n",
       "      <th>evaF</th>\n",
       "      <th>precF</th>\n",
       "      <th>tmaxJ</th>\n",
       "      <th>tminJ</th>\n",
       "      <th>evaJ</th>\n",
       "      <th>precJ</th>\n",
       "      <th>tmaxO</th>\n",
       "      <th>tminO</th>\n",
       "      <th>evaO</th>\n",
       "      <th>precO</th>\n",
       "    </tr>\n",
       "  </thead>\n",
       "  <tbody>\n",
       "    <tr>\n",
       "      <th>0</th>\n",
       "      <td>Aguascalientes</td>\n",
       "      <td>24.133</td>\n",
       "      <td>6.2573</td>\n",
       "      <td>174.83</td>\n",
       "      <td>9.400</td>\n",
       "      <td>29.494</td>\n",
       "      <td>15.520</td>\n",
       "      <td>238.21</td>\n",
       "      <td>90.897</td>\n",
       "      <td>25.935</td>\n",
       "      <td>11.3790</td>\n",
       "      <td>171.72</td>\n",
       "      <td>34.201</td>\n",
       "    </tr>\n",
       "    <tr>\n",
       "      <th>1</th>\n",
       "      <td>Alamitos</td>\n",
       "      <td>20.683</td>\n",
       "      <td>2.8880</td>\n",
       "      <td>115.06</td>\n",
       "      <td>22.335</td>\n",
       "      <td>25.250</td>\n",
       "      <td>9.676</td>\n",
       "      <td>151.87</td>\n",
       "      <td>134.210</td>\n",
       "      <td>21.936</td>\n",
       "      <td>6.7424</td>\n",
       "      <td>108.63</td>\n",
       "      <td>53.321</td>\n",
       "    </tr>\n",
       "    <tr>\n",
       "      <th>2</th>\n",
       "      <td>San Bartolo</td>\n",
       "      <td>24.544</td>\n",
       "      <td>4.2025</td>\n",
       "      <td>150.25</td>\n",
       "      <td>9.460</td>\n",
       "      <td>29.625</td>\n",
       "      <td>13.125</td>\n",
       "      <td>199.81</td>\n",
       "      <td>92.768</td>\n",
       "      <td>26.205</td>\n",
       "      <td>9.2821</td>\n",
       "      <td>144.28</td>\n",
       "      <td>35.253</td>\n",
       "    </tr>\n",
       "    <tr>\n",
       "      <th>3</th>\n",
       "      <td>Calvillo</td>\n",
       "      <td>25.601</td>\n",
       "      <td>4.2400</td>\n",
       "      <td>141.00</td>\n",
       "      <td>10.540</td>\n",
       "      <td>31.499</td>\n",
       "      <td>14.402</td>\n",
       "      <td>210.81</td>\n",
       "      <td>94.844</td>\n",
       "      <td>27.979</td>\n",
       "      <td>10.3080</td>\n",
       "      <td>135.65</td>\n",
       "      <td>34.577</td>\n",
       "    </tr>\n",
       "    <tr>\n",
       "      <th>4</th>\n",
       "      <td>La Codorniz</td>\n",
       "      <td>24.565</td>\n",
       "      <td>6.5446</td>\n",
       "      <td>161.68</td>\n",
       "      <td>11.761</td>\n",
       "      <td>29.376</td>\n",
       "      <td>14.783</td>\n",
       "      <td>211.22</td>\n",
       "      <td>91.693</td>\n",
       "      <td>26.084</td>\n",
       "      <td>11.0820</td>\n",
       "      <td>144.59</td>\n",
       "      <td>39.357</td>\n",
       "    </tr>\n",
       "  </tbody>\n",
       "</table>\n",
       "</div>"
      ],
      "text/plain": [
       "        Estacion    tmaxF   tminF    evaF   precF   tmaxJ   tminJ    evaJ  \\\n",
       "0  Aguascalientes  24.133  6.2573  174.83   9.400  29.494  15.520  238.21   \n",
       "1        Alamitos  20.683  2.8880  115.06  22.335  25.250   9.676  151.87   \n",
       "2     San Bartolo  24.544  4.2025  150.25   9.460  29.625  13.125  199.81   \n",
       "3        Calvillo  25.601  4.2400  141.00  10.540  31.499  14.402  210.81   \n",
       "4     La Codorniz  24.565  6.5446  161.68  11.761  29.376  14.783  211.22   \n",
       "\n",
       "     precJ   tmaxO    tminO    evaO   precO  \n",
       "0   90.897  25.935  11.3790  171.72  34.201  \n",
       "1  134.210  21.936   6.7424  108.63  53.321  \n",
       "2   92.768  26.205   9.2821  144.28  35.253  \n",
       "3   94.844  27.979  10.3080  135.65  34.577  \n",
       "4   91.693  26.084  11.0820  144.59  39.357  "
      ]
     },
     "execution_count": 1,
     "metadata": {},
     "output_type": "execute_result"
    }
   ],
   "source": [
    "import pandas as pd\n",
    "\n",
    "# Cargando el archivo CSV\n",
    "file_path = 'C:/Users/carli/Desktop/9noSemestre/proyectoTesina/EstacionesMeteorologicas.csv'\n",
    "data = pd.read_csv(file_path)\n",
    "\n",
    "# Mostrando las primeras filas para entender la estructura de los datos\n",
    "data.head()"
   ]
  },
  {
   "cell_type": "code",
   "execution_count": 2,
   "id": "56f39694",
   "metadata": {},
   "outputs": [
    {
     "data": {
      "text/plain": [
       "tmaxF    0\n",
       "tminF    0\n",
       "evaF     0\n",
       "precF    0\n",
       "tmaxJ    0\n",
       "tminJ    0\n",
       "evaJ     0\n",
       "precJ    0\n",
       "tmaxO    0\n",
       "tminO    0\n",
       "evaO     0\n",
       "precO    0\n",
       "dtype: int64"
      ]
     },
     "execution_count": 2,
     "metadata": {},
     "output_type": "execute_result"
    }
   ],
   "source": [
    "# Ignorando la columna 'Estacion' y preparando los datos para el análisis\n",
    "data_clustering = data.drop(['Estacion '], axis=1)\n",
    "\n",
    "# Revisando si hay valores faltantes\n",
    "missing_values = data_clustering.isnull().sum()\n",
    "\n",
    "missing_values\n"
   ]
  },
  {
   "cell_type": "code",
   "execution_count": 3,
   "id": "25c4c6c3",
   "metadata": {},
   "outputs": [
    {
     "data": {
      "text/plain": [
       "Index(['Estacion ', 'tmaxF', 'tminF', 'evaF', 'precF', 'tmaxJ', 'tminJ',\n",
       "       'evaJ', 'precJ', 'tmaxO', 'tminO', 'evaO', 'precO'],\n",
       "      dtype='object')"
      ]
     },
     "execution_count": 3,
     "metadata": {},
     "output_type": "execute_result"
    }
   ],
   "source": [
    "# Obteniendo los nombres de las columnas para identificar la columna a excluir\n",
    "column_names = data.columns\n",
    "column_names\n"
   ]
  },
  {
   "cell_type": "code",
   "execution_count": 12,
   "id": "7a7d8635",
   "metadata": {},
   "outputs": [
    {
     "name": "stdout",
     "output_type": "stream",
     "text": [
      "Collecting threadpoolctl==3.1.0\n",
      "  Using cached threadpoolctl-3.1.0-py3-none-any.whl (14 kB)\n",
      "Installing collected packages: threadpoolctl\n",
      "  Attempting uninstall: threadpoolctl\n",
      "    Found existing installation: threadpoolctl 2.2.0\n",
      "    Uninstalling threadpoolctl-2.2.0:\n",
      "      Successfully uninstalled threadpoolctl-2.2.0\n",
      "Successfully installed threadpoolctl-3.1.0\n",
      "Note: you may need to restart the kernel to use updated packages.\n"
     ]
    }
   ],
   "source": [
    "pip install threadpoolctl==3.1.0"
   ]
  },
  {
   "cell_type": "code",
   "execution_count": 4,
   "id": "fe415b09",
   "metadata": {},
   "outputs": [
    {
     "name": "stderr",
     "output_type": "stream",
     "text": [
      "C:\\Users\\carli\\anaconda3\\lib\\site-packages\\sklearn\\cluster\\_kmeans.py:1440: UserWarning: KMeans is known to have a memory leak on Windows with MKL, when there are less chunks than available threads. You can avoid it by setting the environment variable OMP_NUM_THREADS=1.\n",
      "  warnings.warn(\n",
      "C:\\Users\\carli\\anaconda3\\lib\\site-packages\\sklearn\\cluster\\_kmeans.py:1440: UserWarning: KMeans is known to have a memory leak on Windows with MKL, when there are less chunks than available threads. You can avoid it by setting the environment variable OMP_NUM_THREADS=1.\n",
      "  warnings.warn(\n",
      "C:\\Users\\carli\\anaconda3\\lib\\site-packages\\sklearn\\cluster\\_kmeans.py:1440: UserWarning: KMeans is known to have a memory leak on Windows with MKL, when there are less chunks than available threads. You can avoid it by setting the environment variable OMP_NUM_THREADS=1.\n",
      "  warnings.warn(\n",
      "C:\\Users\\carli\\anaconda3\\lib\\site-packages\\sklearn\\cluster\\_kmeans.py:1440: UserWarning: KMeans is known to have a memory leak on Windows with MKL, when there are less chunks than available threads. You can avoid it by setting the environment variable OMP_NUM_THREADS=1.\n",
      "  warnings.warn(\n",
      "C:\\Users\\carli\\anaconda3\\lib\\site-packages\\sklearn\\cluster\\_kmeans.py:1440: UserWarning: KMeans is known to have a memory leak on Windows with MKL, when there are less chunks than available threads. You can avoid it by setting the environment variable OMP_NUM_THREADS=1.\n",
      "  warnings.warn(\n",
      "C:\\Users\\carli\\anaconda3\\lib\\site-packages\\sklearn\\cluster\\_kmeans.py:1440: UserWarning: KMeans is known to have a memory leak on Windows with MKL, when there are less chunks than available threads. You can avoid it by setting the environment variable OMP_NUM_THREADS=1.\n",
      "  warnings.warn(\n",
      "C:\\Users\\carli\\anaconda3\\lib\\site-packages\\sklearn\\cluster\\_kmeans.py:1440: UserWarning: KMeans is known to have a memory leak on Windows with MKL, when there are less chunks than available threads. You can avoid it by setting the environment variable OMP_NUM_THREADS=1.\n",
      "  warnings.warn(\n",
      "C:\\Users\\carli\\anaconda3\\lib\\site-packages\\sklearn\\cluster\\_kmeans.py:1440: UserWarning: KMeans is known to have a memory leak on Windows with MKL, when there are less chunks than available threads. You can avoid it by setting the environment variable OMP_NUM_THREADS=1.\n",
      "  warnings.warn(\n",
      "C:\\Users\\carli\\anaconda3\\lib\\site-packages\\sklearn\\cluster\\_kmeans.py:1440: UserWarning: KMeans is known to have a memory leak on Windows with MKL, when there are less chunks than available threads. You can avoid it by setting the environment variable OMP_NUM_THREADS=1.\n",
      "  warnings.warn(\n",
      "C:\\Users\\carli\\anaconda3\\lib\\site-packages\\sklearn\\cluster\\_kmeans.py:1440: UserWarning: KMeans is known to have a memory leak on Windows with MKL, when there are less chunks than available threads. You can avoid it by setting the environment variable OMP_NUM_THREADS=1.\n",
      "  warnings.warn(\n"
     ]
    },
    {
     "data": {
      "image/png": "[encoded data removed]",
      "text/plain": [
       "<Figure size 720x432 with 1 Axes>"
      ]
     },
     "metadata": {
      "needs_background": "light"
     },
     "output_type": "display_data"
    }
   ],
   "source": [
    "from sklearn.cluster import KMeans\n",
    "import matplotlib.pyplot as plt\n",
    "\n",
    "# Rango de número de clusters a probar\n",
    "range_clusters = range(1, 11)\n",
    "\n",
    "# Lista para almacenar la suma de los cuadrados dentro del grupo para cada número de clusters\n",
    "wcss = []\n",
    "\n",
    "# Calculando WCSS para cada número de clusters\n",
    "for k in range_clusters:\n",
    "    kmeans = KMeans(n_clusters=k, init='k-means++', n_init=10, random_state=42)\n",
    "    kmeans.fit(data_clustering)\n",
    "    wcss.append(kmeans.inertia_)\n",
    "\n",
    "# Gráfico del método del codo\n",
    "plt.figure(figsize=(10, 6))\n",
    "plt.plot(range_clusters, wcss, marker='o', linestyle='-', color='b')\n",
    "plt.title('El Método del Codo para Determinar el Número Óptimo de Clusters')\n",
    "plt.xlabel('Número de clusters')\n",
    "plt.ylabel('WCSS')\n",
    "plt.xticks(range_clusters)\n",
    "plt.grid(True)\n",
    "plt.show()\n"
   ]
  },
  {
   "cell_type": "code",
   "execution_count": null,
   "id": "0ab4fa95",
   "metadata": {},
   "outputs": [],
   "source": []
  }
 ],
 "metadata": {
  "kernelspec": {
   "display_name": "Python 3 (ipykernel)",
   "language": "python",
   "name": "python3"
  },
  "language_info": {
   "codemirror_mode": {
    "name": "ipython",
    "version": 3
   },
   "file_extension": ".py",
   "mimetype": "text/x-python",
   "name": "python",
   "nbconvert_exporter": "python",
   "pygments_lexer": "ipython3",
   "version": "3.9.7"
  }
 },
 "nbformat": 4,
 "nbformat_minor": 5
}
